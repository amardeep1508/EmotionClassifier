{
 "cells": [
  {
   "cell_type": "code",
   "execution_count": 56,
   "metadata": {
    "scrolled": true
   },
   "outputs": [
    {
     "name": "stdout",
     "output_type": "stream",
     "text": [
      "weiwei_20131130.mat\n"
     ]
    }
   ],
   "source": [
    "from scipy.io import loadmat\n",
    "import numpy as np\n",
    "import matplotlib.pyplot as plt\n",
    "from scipy import signal\n",
    "from scipy.signal import butter, lfilter\n",
    "import math\n",
    "import re\n",
    "from sklearn.svm import SVC\n",
    "import random\n",
    "from random import shuffle\n",
    "from sklearn.cross_validation import train_test_split\n",
    "from sklearn.neighbors import KNeighborsClassifier\n",
    "import os\n",
    "from sklearn import linear_model\n",
    "from sklearn import preprocessing\n",
    "\n",
    "class Preprocessor():\n",
    "    def __init__(self,data):\n",
    "        self.data = data\n",
    "        self.sampleData = self.getSampleData(5)\n",
    "        self.filterData = self.butter_bandpass_filter(0.5,50,200)\n",
    "        self.featuresData = self.get_feature(self.filterData)\n",
    "\n",
    "    def getSampleData(self,sampleRate):\n",
    "        newData = []\n",
    "        for value in self.data:\n",
    "            sampledData = value[:,::sampleRate]\n",
    "            newData.append(sampledData)\n",
    "        return newData\n",
    "\n",
    "    def butter_bandpass(self,lowcut, highcut, fs, order=5):\n",
    "        nyq = 0.5 * fs\n",
    "        low = lowcut / nyq\n",
    "        high = highcut / nyq\n",
    "        b, a = butter(order, [low, high], btype='band')\n",
    "        return b, a\n",
    "\n",
    "    def butter_bandpass_filter(self, lowcut, highcut, fs, order=5):\n",
    "        b, a = self.butter_bandpass(lowcut, highcut, fs, order=order)\n",
    "        newData = []\n",
    "        for value in self.sampleData:\n",
    "            channelList = []\n",
    "            for singleChannel in value:\n",
    "                y = lfilter(b, a, singleChannel)\n",
    "                channelList.append(y)\n",
    "            newData.append(channelList)\n",
    "        return newData\n",
    "\n",
    "\n",
    "    def fft(self, all_channel_data):\n",
    "        fft = map(lambda x: np.fft.fft(x), all_channel_data)\n",
    "        return fft\n",
    "\n",
    "    def get_frequency(self, all_channel_data):\n",
    "        \"\"\"\n",
    "        Get frequency from computed fft for all channels.\n",
    "        Input: Channel data with dimension N x M. N denotes number of channel and M denotes number of EEG data from each channel.\n",
    "        Output: Frequency band from each channel: Delta, Theta, Alpha, Beta, and Gamma.\n",
    "        \"\"\"\n",
    "        # Length data channel\n",
    "        all_channel_data = preprocessing.StandardScaler().fit_transform(all_channel_data)\n",
    "        \n",
    "        L = len(all_channel_data[0])\n",
    "        #print(L)\n",
    "        # Sampling frequency\n",
    "        Fs = 200\n",
    "\n",
    "        # Get fft data\n",
    "        data_fft = self.fft(all_channel_data)\n",
    "\n",
    "        # Compute frequency\n",
    "        frequency = [ abs( x / L) for x in data_fft]\n",
    "        frequency = [ x[: L // 2 + 1] * 2 for x in frequency]\n",
    " \n",
    "        delta = [x[L*1 //Fs- 1: L*4 // Fs] for x in frequency]\n",
    "        theta = [x[L * 4 // Fs - 1: L * 8 // Fs] for x in frequency]\n",
    "        alpha = [x[L * 5 // Fs - 1: L * 13 // Fs] for x in frequency]\n",
    "        beta =  [x[L * 13 // Fs - 1: L * 30 // Fs] for x in frequency]\n",
    "        gamma = [x[L * 30 // Fs - 1: L * 50 // Fs] for x in frequency]\n",
    "\n",
    "        return delta, theta, alpha, beta, gamma\n",
    "    \n",
    "\n",
    "    def differentialEntopy(self,data):\n",
    "\n",
    "        std = np.std(data,axis=1)\n",
    "        #print('std :' + str(std))\n",
    "        #print('std :', std)\n",
    "        de = [ 0 if x==0 else (1.0/2)*math.log(2*math.pi*2.71*x**2)  for x in std ]\n",
    "        #print('de size: ' ,de)\n",
    "        return de\n",
    "\n",
    "    def get_feature(self, all_clips_data):\n",
    "        \n",
    "        \"\"\"\n",
    "        Get feature from each frequency.\n",
    "        Input: Channel data with dimension N x M. N denotes number of channel and M denotes number of EEG data from each channel.\n",
    "        Output: Feature (standard deviasion and mean) from all frequency bands and channels with dimesion 1 x M (number of feature).\n",
    "        \"\"\"\n",
    "\n",
    "        featuesDict = []\n",
    "        for all_channel_data in all_clips_data:\n",
    "            \n",
    "            delta, theta, alpha, beta, gamma = self.get_frequency(all_channel_data)\n",
    "            \n",
    "            delta = np.array(delta,dtype = float)\n",
    "            theta = np.array(theta,dtype = float)\n",
    "            alpha = np.array(alpha,dtype = float)\n",
    "            beta = np.array(beta,dtype = float)\n",
    "            gamma = np.array(beta,dtype = float)\n",
    "            \n",
    "            #print('gamma :', gamma)\n",
    "\n",
    "            delta_std = np.std(delta)\n",
    "            theta_std = np.std(theta)\n",
    "            alpha_std = np.std(alpha)\n",
    "            beta_std = np.std(beta)\n",
    "            gamma_std = np.std(gamma)\n",
    "\n",
    "            delta_m = np.mean(delta)\n",
    "            theta_m = np.mean(theta)\n",
    "            alpha_m = np.mean(alpha)\n",
    "            beta_m = np.mean(beta)\n",
    "            gamma_m = np.mean(gamma)\n",
    "            \n",
    "            #print(gamma_m)\n",
    "            print('delta freq :', delta.shape)\n",
    "            delta_de = self.differentialEntopy(delta)\n",
    "            print('delta de freq :', delta_de.shape)\n",
    "\n",
    "            theta_de = self.differentialEntopy(theta)\n",
    "            alpha_de = self.differentialEntopy(alpha)\n",
    "            beta_de = self.differentialEntopy(beta)\n",
    "            gamma_de = self.differentialEntopy(gamma)\n",
    "            \n",
    "            #l = [delta_m,theta_m, alpha_m, beta_m, gamma_m, delta_std , theta_std, alpha_std, beta_std, delta_std]\n",
    "            #print(gamma_de)\n",
    "            feature = delta_de + theta_de + alpha_de + beta_de + gamma_de \n",
    "            #print(len(feature))\n",
    "            #print(type(feature))\n",
    "            #feature = np.array((feature))\n",
    "            #feature = [delta_de, theta_de,  alpha_de,  beta_de, gamma_de, l\n",
    "            #feature = feature.T\n",
    "            #feature = []\n",
    "            #feature.extend(delta_de)\n",
    "            #feature.extend(theta_de)\n",
    "            #feature.extend(alpha_de)\n",
    "            #feature.extend(beta_de)\n",
    "            #feature.extend(gamma_de)\n",
    "            #feature.extend(l)\n",
    "            \n",
    "            #feature.append(delta_m,theta_m, alpha_m, beta_m, gamma_m, delta_std , theta_std, alpha_std, beta_std, delta_std)\n",
    "            #print(len(feature))\n",
    "            #featuesDict[0] = feature\n",
    "            feature = np.array((feature), dtype=float)\n",
    "            featuesDict.append(feature)\n",
    "        return featuesDict\n",
    "\n",
    "\n",
    "# In[68]:\n",
    "\n",
    "\n",
    "def getLabelData():\n",
    "        labels = loadmat('label.mat')['label'].ravel()\n",
    "        return labels\n",
    "\n",
    "def loadData(dataDir):\n",
    "    feat = []\n",
    "    orderedLabels = []\n",
    "    labels = getLabelData()\n",
    "    for file in os.listdir(dataDir):\n",
    "        print(file)\n",
    "        data = loadmat(dataDir + \"/\" + file)\n",
    "        del data['__header__']\n",
    "        del data['__globals__']\n",
    "        del data['__version__']\n",
    "\n",
    "\n",
    "        for clip in data.keys():\n",
    "            search = re.search(r'\\d+$',clip)\n",
    "            if(not search == None):\n",
    "                index = int(search.group())\n",
    "                orderedLabels.append(labels[index-1])\n",
    "                feat.append(data[clip])\n",
    "        #print(len(feat))\n",
    "    #feat = np.array(feat)\n",
    "    return feat,orderedLabels\n",
    "\n",
    "\n",
    "# In[52]:\n",
    "\n",
    "\n",
    "\n",
    "totalFeat = []\n",
    "totalLabels = []\n",
    "\n",
    "labels = getLabelData()\n",
    "\n",
    "dir = os.getcwd()\n",
    "dataDir = dir + \"/\" + \"data\"\n",
    "feat,orderedLabels = loadData(dataDir)\n",
    "totalLabels.extend(orderedLabels)\n",
    "totalFeat.extend(feat)\n",
    "#print(len(feat)\n",
    "#print(len(orderedLabels))\n",
    "\n",
    "\n",
    "# In[ ]:\n",
    "\n",
    "#print(totalFeat)\n",
    "\n"
   ]
  },
  {
   "cell_type": "code",
   "execution_count": 57,
   "metadata": {},
   "outputs": [
    {
     "name": "stdout",
     "output_type": "stream",
     "text": [
      "delta freq : (62, 124)\n"
     ]
    },
    {
     "ename": "AttributeError",
     "evalue": "'list' object has no attribute 'shape'",
     "output_type": "error",
     "traceback": [
      "\u001b[0;31m---------------------------------------------------------------------------\u001b[0m",
      "\u001b[0;31mAttributeError\u001b[0m                            Traceback (most recent call last)",
      "\u001b[0;32m<ipython-input-57-0906afa1984b>\u001b[0m in \u001b[0;36m<module>\u001b[0;34m()\u001b[0m\n\u001b[1;32m      1\u001b[0m \u001b[0;34m\u001b[0m\u001b[0m\n\u001b[1;32m      2\u001b[0m \u001b[0mrawdata\u001b[0m \u001b[0;34m=\u001b[0m \u001b[0mtotalFeat\u001b[0m\u001b[0;34m\u001b[0m\u001b[0m\n\u001b[0;32m----> 3\u001b[0;31m \u001b[0mpreprocessor\u001b[0m \u001b[0;34m=\u001b[0m \u001b[0mPreprocessor\u001b[0m\u001b[0;34m(\u001b[0m\u001b[0mrawdata\u001b[0m\u001b[0;34m)\u001b[0m\u001b[0;34m\u001b[0m\u001b[0m\n\u001b[0m\u001b[1;32m      4\u001b[0m \u001b[0mfilterData\u001b[0m \u001b[0;34m=\u001b[0m \u001b[0mpreprocessor\u001b[0m\u001b[0;34m.\u001b[0m\u001b[0mfilterData\u001b[0m\u001b[0;34m\u001b[0m\u001b[0m\n\u001b[1;32m      5\u001b[0m \u001b[0mfeaturesData\u001b[0m \u001b[0;34m=\u001b[0m \u001b[0mpreprocessor\u001b[0m\u001b[0;34m.\u001b[0m\u001b[0mfeaturesData\u001b[0m\u001b[0;34m\u001b[0m\u001b[0m\n",
      "\u001b[0;32m<ipython-input-56-6813c8764747>\u001b[0m in \u001b[0;36m__init__\u001b[0;34m(self, data)\u001b[0m\n\u001b[1;32m     20\u001b[0m         \u001b[0mself\u001b[0m\u001b[0;34m.\u001b[0m\u001b[0msampleData\u001b[0m \u001b[0;34m=\u001b[0m \u001b[0mself\u001b[0m\u001b[0;34m.\u001b[0m\u001b[0mgetSampleData\u001b[0m\u001b[0;34m(\u001b[0m\u001b[0;36m5\u001b[0m\u001b[0;34m)\u001b[0m\u001b[0;34m\u001b[0m\u001b[0m\n\u001b[1;32m     21\u001b[0m         \u001b[0mself\u001b[0m\u001b[0;34m.\u001b[0m\u001b[0mfilterData\u001b[0m \u001b[0;34m=\u001b[0m \u001b[0mself\u001b[0m\u001b[0;34m.\u001b[0m\u001b[0mbutter_bandpass_filter\u001b[0m\u001b[0;34m(\u001b[0m\u001b[0;36m0.5\u001b[0m\u001b[0;34m,\u001b[0m\u001b[0;36m50\u001b[0m\u001b[0;34m,\u001b[0m\u001b[0;36m200\u001b[0m\u001b[0;34m)\u001b[0m\u001b[0;34m\u001b[0m\u001b[0m\n\u001b[0;32m---> 22\u001b[0;31m         \u001b[0mself\u001b[0m\u001b[0;34m.\u001b[0m\u001b[0mfeaturesData\u001b[0m \u001b[0;34m=\u001b[0m \u001b[0mself\u001b[0m\u001b[0;34m.\u001b[0m\u001b[0mget_feature\u001b[0m\u001b[0;34m(\u001b[0m\u001b[0mself\u001b[0m\u001b[0;34m.\u001b[0m\u001b[0mfilterData\u001b[0m\u001b[0;34m)\u001b[0m\u001b[0;34m\u001b[0m\u001b[0m\n\u001b[0m\u001b[1;32m     23\u001b[0m \u001b[0;34m\u001b[0m\u001b[0m\n\u001b[1;32m     24\u001b[0m     \u001b[0;32mdef\u001b[0m \u001b[0mgetSampleData\u001b[0m\u001b[0;34m(\u001b[0m\u001b[0mself\u001b[0m\u001b[0;34m,\u001b[0m\u001b[0msampleRate\u001b[0m\u001b[0;34m)\u001b[0m\u001b[0;34m:\u001b[0m\u001b[0;34m\u001b[0m\u001b[0m\n",
      "\u001b[0;32m<ipython-input-56-6813c8764747>\u001b[0m in \u001b[0;36mget_feature\u001b[0;34m(self, all_clips_data)\u001b[0m\n\u001b[1;32m    127\u001b[0m             \u001b[0mprint\u001b[0m\u001b[0;34m(\u001b[0m\u001b[0;34m'delta freq :'\u001b[0m\u001b[0;34m,\u001b[0m \u001b[0mdelta\u001b[0m\u001b[0;34m.\u001b[0m\u001b[0mshape\u001b[0m\u001b[0;34m)\u001b[0m\u001b[0;34m\u001b[0m\u001b[0m\n\u001b[1;32m    128\u001b[0m             \u001b[0mdelta_de\u001b[0m \u001b[0;34m=\u001b[0m \u001b[0mself\u001b[0m\u001b[0;34m.\u001b[0m\u001b[0mdifferentialEntopy\u001b[0m\u001b[0;34m(\u001b[0m\u001b[0mdelta\u001b[0m\u001b[0;34m)\u001b[0m\u001b[0;34m\u001b[0m\u001b[0m\n\u001b[0;32m--> 129\u001b[0;31m             \u001b[0mprint\u001b[0m\u001b[0;34m(\u001b[0m\u001b[0;34m'delta de freq :'\u001b[0m\u001b[0;34m,\u001b[0m \u001b[0mdelta_de\u001b[0m\u001b[0;34m.\u001b[0m\u001b[0mshape\u001b[0m\u001b[0;34m)\u001b[0m\u001b[0;34m\u001b[0m\u001b[0m\n\u001b[0m\u001b[1;32m    130\u001b[0m \u001b[0;34m\u001b[0m\u001b[0m\n\u001b[1;32m    131\u001b[0m             \u001b[0mtheta_de\u001b[0m \u001b[0;34m=\u001b[0m \u001b[0mself\u001b[0m\u001b[0;34m.\u001b[0m\u001b[0mdifferentialEntopy\u001b[0m\u001b[0;34m(\u001b[0m\u001b[0mtheta\u001b[0m\u001b[0;34m)\u001b[0m\u001b[0;34m\u001b[0m\u001b[0m\n",
      "\u001b[0;31mAttributeError\u001b[0m: 'list' object has no attribute 'shape'"
     ]
    }
   ],
   "source": [
    "\n",
    "rawdata = totalFeat\n",
    "preprocessor = Preprocessor(rawdata)\n",
    "filterData = preprocessor.filterData\n",
    "featuresData = preprocessor.featuresData\n",
    "featuresData = np.array(featuresData, dtype = float)\n",
    "#np.save('weights',featuresData)"
   ]
  },
  {
   "cell_type": "code",
   "execution_count": 83,
   "metadata": {},
   "outputs": [],
   "source": [
    "'''\n",
    "import copy\n",
    "totLab = copy.deepcopy(totalLabels)\n",
    "totFeat = copy.deepcopy(featuresData)\n",
    "featuresData'''"
   ]
  },
  {
   "cell_type": "code",
   "execution_count": 80,
   "metadata": {},
   "outputs": [
    {
     "name": "stdout",
     "output_type": "stream",
     "text": [
      "[]\n",
      "(0, 310)\n",
      "0\n"
     ]
    },
    {
     "name": "stderr",
     "output_type": "stream",
     "text": [
      "/home/hamsika/anaconda2/lib/python2.7/site-packages/ipykernel_launcher.py:4: DeprecationWarning: The truth value of an empty array is ambiguous. Returning False, but in future this will result in an error. Use `array.size > 0` to check that an array is not empty.\n",
      "  after removing the cwd from sys.path.\n",
      "/home/hamsika/anaconda2/lib/python2.7/site-packages/ipykernel_launcher.py:5: DeprecationWarning: The truth value of an empty array is ambiguous. Returning False, but in future this will result in an error. Use `array.size > 0` to check that an array is not empty.\n",
      "  \"\"\"\n"
     ]
    }
   ],
   "source": [
    "# featuresData = np.array(preprocessor.featuresData, dtype = float)\n",
    "# totalLabels = np.array(totalLabels)\n",
    "# print(totalLabels)\n",
    "# featuresData = featuresData[totalLabels == -1 or totalLabels == 1]\n",
    "# totalLabels = totalLabels[totalLabels == -1 or totalLabels == 1]\n",
    "# print(featuresData.shape)\n",
    "# print(len(totalLabels))\n",
    "# #print(featuresData[0])\n",
    "# #featuresData = featuresData[:,-124:]\n",
    "# #featuresData.shape"
   ]
  },
  {
   "cell_type": "code",
   "execution_count": 48,
   "metadata": {
    "scrolled": false
   },
   "outputs": [
    {
     "name": "stdout",
     "output_type": "stream",
     "text": [
      "[[ 2.34411053 -2.57266131]\n",
      " [ 0.97167029 -3.32068184]\n",
      " [-1.57438143 -0.02058772]\n",
      " [-1.87500828 -0.18909762]\n",
      " [-2.37153462 -0.03716043]]\n"
     ]
    },
    {
     "data": {
      "image/png": "[encoded data removed]",
      "text/plain": [
       "<matplotlib.figure.Figure at 0x7f11b003e310>"
      ]
     },
     "metadata": {},
     "output_type": "display_data"
    }
   ],
   "source": [
    "# from sklearn.decomposition import PCA\n",
    "# import matplotlib.pyplot as plt\n",
    "\n",
    "# #print(featuresData[0])\n",
    "# pca = PCA(n_components=2)\n",
    "# tr = pca.fit_transform(featuresData)\n",
    "# #print(tr)\n",
    "# t_lab = np.array(totalLabels[:100])\n",
    "# t_feat = tr[:100]\n",
    "# #print(t_feat.shape)\n",
    "# #plt.plot()\n",
    "\n",
    "# #print(t_lab)\n",
    "# #print(t_lab == 0)\n",
    "# print(t_feat[t_lab == 0])\n",
    "# plt.plot(t_feat[t_lab == 0][0],t_feat[t_lab == 0][1], 'r.')\n",
    "# plt.plot(t_feat[t_lab == 1][0],t_feat[t_lab == 1][1], 'g*')\n",
    "# plt.plot(t_feat[t_lab == -1][0],t_feat[t_lab == -1][1], 'b')\n",
    "\n",
    "\n",
    "# plt.show()\n",
    "\n"
   ]
  },
  {
   "cell_type": "code",
   "execution_count": 87,
   "metadata": {},
   "outputs": [
    {
     "name": "stdout",
     "output_type": "stream",
     "text": [
      "svm score :0.6444444444444445\n",
      "neigh score :0.48148148148148145\n",
      "Logistic : 0.5555555555555556\n"
     ]
    }
   ],
   "source": [
    "\n",
    "'''\n",
    "trainFeat, testFeat, trainLabels, testLabels = train_test_split(featuresData, totalLabels, test_size=0.2, random_state=42)\n",
    "\n",
    "#print(trainFeat)\n",
    "#print(trainLabels)\n",
    "#print(testFeat)\n",
    "#print(testLabels)\n",
    "\n",
    "clf = SVC(kernel='linear')\n",
    "clf.fit(trainFeat, trainLabels)\n",
    "score = clf.score(testFeat,testLabels)\n",
    "#score = clf.score(testFeat,testLabels)\n",
    "print('svm score :' + str(score))\n",
    "\n",
    "neigh = KNeighborsClassifier(n_neighbors=3)\n",
    "neigh.fit(trainFeat, trainLabels) \n",
    "neigh_score = neigh.score(testFeat,testLabels)\n",
    "print('neigh score :' + str(neigh_score))\n",
    "\n",
    "logreg = linear_model.LogisticRegression(C=1e5)\n",
    "logreg.fit(trainFeat, trainLabels) \n",
    "log_score = logreg.score(testFeat,testLabels)\n",
    "print('Logistic : ' + str(log_score))\n",
    "'''\n",
    "\n"
   ]
  },
  {
   "cell_type": "code",
   "execution_count": null,
   "metadata": {},
   "outputs": [],
   "source": [
    "t_lab = labels[:100]\n",
    "t_feat = featuresData[:100]\n",
    "\n",
    "import matplotlib.pylib as plt\n"
   ]
  },
  {
   "cell_type": "code",
   "execution_count": 60,
   "metadata": {},
   "outputs": [],
   "source": [
    "f = featuresData[0].shape"
   ]
  },
  {
   "cell_type": "code",
   "execution_count": 4,
   "metadata": {},
   "outputs": [],
   "source": [
    "f = np.zeros((4,3), dtype=float)\n",
    "np.save('weights',f)"
   ]
  },
  {
   "cell_type": "code",
   "execution_count": 35,
   "metadata": {},
   "outputs": [
    {
     "name": "stdout",
     "output_type": "stream",
     "text": [
      "(675, 310)\n"
     ]
    },
    {
     "data": {
      "text/plain": [
       "675"
      ]
     },
     "execution_count": 35,
     "metadata": {},
     "output_type": "execute_result"
    }
   ],
   "source": [
    "t_feat = np.load('weights.npy')\n",
    "print(t_feat.shape)\n",
    "c = np.load('weights.npy')\n",
    "c.shape\n",
    "t2_lab = np.load('totalLabels.npy')\n",
    "t_lab = np.load('totalLabels.npy')\n",
    "len(t_lab)"
   ]
  },
  {
   "cell_type": "code",
   "execution_count": 26,
   "metadata": {},
   "outputs": [
    {
     "name": "stdout",
     "output_type": "stream",
     "text": [
      "6.416462013128231\n",
      "-3.8918323306352876\n"
     ]
    }
   ],
   "source": [
    "print(np.max(gammaData))\n",
    "print(np.min(gammaData))"
   ]
  },
  {
   "cell_type": "code",
   "execution_count": 23,
   "metadata": {},
   "outputs": [
    {
     "data": {
      "text/plain": [
       "[<matplotlib.lines.Line2D at 0x7f8d8d9a0048>]"
      ]
     },
     "execution_count": 23,
     "metadata": {},
     "output_type": "execute_result"
    },
    {
     "data": {
      "image/png": "[encoded data removed]",
      "text/plain": [
       "<Figure size 432x288 with 1 Axes>"
      ]
     },
     "metadata": {},
     "output_type": "display_data"
    }
   ],
   "source": [
    "gammaData = c [:,-62:]\n",
    "g_std = np.std(gammaData, axis = 1)\n",
    "x = g_std[t_lab == 0]\n",
    "\n",
    "plt.plot(g_std[t_lab == 0], 'b*')"
   ]
  },
  {
   "cell_type": "code",
   "execution_count": 24,
   "metadata": {},
   "outputs": [
    {
     "data": {
      "text/plain": [
       "[<matplotlib.lines.Line2D at 0x7f8d8d95a278>]"
      ]
     },
     "execution_count": 24,
     "metadata": {},
     "output_type": "execute_result"
    },
    {
     "data": {
      "image/png": "[encoded data removed]",
      "text/plain": [
       "<Figure size 432x288 with 1 Axes>"
      ]
     },
     "metadata": {},
     "output_type": "display_data"
    }
   ],
   "source": [
    "plt.plot(g_std[t_lab == 0], 'r.')\n",
    "plt.plot(g_std[t_lab == 1], 'g*')\n",
    "plt.plot(g_std[t_lab == -1], 'b.')"
   ]
  },
  {
   "cell_type": "code",
   "execution_count": 36,
   "metadata": {},
   "outputs": [
    {
     "name": "stdout",
     "output_type": "stream",
     "text": [
      "svm score :0.6518518518518519\n",
      "neigh score :0.45925925925925926\n",
      "Logistic : 0.6\n"
     ]
    }
   ],
   "source": [
    "\n",
    "trainFeat, testFeat, trainLabels, testLabels = train_test_split(t_feat, t_lab, test_size=0.2, random_state=100)\n",
    "\n",
    "#print(trainFeat)\n",
    "#print(trainLabels)\n",
    "#print(testFeat)\n",
    "#print(testLabels)\n",
    "\n",
    "neigh = KNeighborsClassifier(n_neighbors=5)\n",
    "neigh.fit(trainFeat, trainLabels) \n",
    "neigh_score = neigh.score(testFeat,testLabels)\n",
    "print('neigh score :' + str(neigh_score))\n",
    "\n",
    "logreg = linear_model.LogisticRegression(C=1e5)\n",
    "logreg.fit(trainFeat, trainLabels) \n",
    "log_score = logreg.score(testFeat,testLabels)\n",
    "print('Logistic : ' + str(log_score))"
   ]
  },
  {
   "cell_type": "code",
   "execution_count": 38,
   "metadata": {},
   "outputs": [
    {
     "name": "stdout",
     "output_type": "stream",
     "text": [
      "svm score :0.6518518518518519\n",
      "[[ 1.00180164  2.08183392 -0.08363556]\n",
      " [-0.05138969  0.99095019  2.0604395 ]\n",
      " [ 0.95790326  2.16316396 -0.12106722]\n",
      " ...\n",
      " [ 1.00903181  2.06044969 -0.0694815 ]\n",
      " [ 1.12523311  2.19781883 -0.32305194]\n",
      " [ 1.00740194 -0.37215806  2.36475612]]\n"
     ]
    }
   ],
   "source": [
    "\n",
    "clf = SVC(kernel='linear')\n",
    "clf.fit(trainFeat, trainLabels)\n",
    "score = clf.score(testFeat,testLabels)\n",
    "#score = clf.score(testFeat,testLabels)\n",
    "print('svm score :' + str(score))\n",
    "\n",
    "fu = clf.decision_function(trainFeat)\n",
    "print(fu)"
   ]
  },
  {
   "cell_type": "code",
   "execution_count": 41,
   "metadata": {},
   "outputs": [
    {
     "data": {
      "text/plain": [
       "dict_keys(['de_LDS5', 'dcau_LDS7', 'asm_movingAve12', 'psd_movingAve9', 'de_LDS2', 'asm_movingAve7', 'asm_movingAve5', 'de_movingAve13', 'dasm_LDS10', 'de_movingAve6', 'asm_movingAve15', 'psd_movingAve2', 'dasm_movingAve12', 'rasm_movingAve11', 'de_LDS12', 'asm_movingAve9', 'psd_movingAve13', 'rasm_LDS12', 'asm_LDS3', 'asm_movingAve11', 'de_LDS8', 'de_LDS10', 'psd_movingAve8', 'dasm_movingAve7', 'psd_LDS11', 'psd_LDS12', '__globals__', 'rasm_movingAve8', 'rasm_movingAve12', 'asm_movingAve1', 'rasm_movingAve9', 'asm_movingAve3', 'psd_movingAve5', 'rasm_LDS13', 'psd_LDS6', 'rasm_movingAve10', 'asm_movingAve2', 'rasm_movingAve5', 'dcau_movingAve15', 'dcau_LDS11', 'dcau_movingAve8', 'psd_LDS15', 'dasm_LDS4', 'psd_movingAve10', 'psd_movingAve15', 'asm_LDS9', 'dcau_movingAve5', 'asm_LDS6', 'dcau_movingAve11', 'psd_LDS14', 'rasm_LDS6', 'dasm_LDS6', 'rasm_movingAve15', 'dasm_movingAve11', 'dcau_LDS12', 'rasm_LDS8', 'psd_movingAve14', 'de_movingAve12', 'dcau_LDS2', 'psd_movingAve6', 'de_LDS7', 'dcau_movingAve4', 'de_movingAve4', 'dasm_movingAve2', 'asm_LDS14', 'dcau_movingAve9', 'rasm_movingAve6', 'asm_movingAve14', 'dcau_movingAve14', 'psd_LDS9', 'psd_LDS13', 'asm_movingAve4', 'dasm_movingAve10', 'asm_LDS11', 'rasm_LDS10', 'dcau_LDS15', 'rasm_movingAve14', 'psd_movingAve12', 'rasm_movingAve2', 'dasm_LDS8', 'dasm_LDS9', 'rasm_LDS5', 'psd_LDS4', 'asm_movingAve8', 'dcau_movingAve7', 'de_movingAve15', 'de_movingAve7', 'rasm_LDS2', 'de_movingAve9', 'psd_LDS10', 'rasm_movingAve3', 'psd_LDS2', 'de_movingAve14', 'dcau_movingAve10', 'dasm_LDS1', 'dasm_LDS15', 'de_movingAve2', 'dcau_LDS9', 'rasm_LDS14', 'de_movingAve5', 'dasm_movingAve8', 'psd_LDS5', 'de_LDS13', '__header__', 'dasm_LDS12', 'dasm_movingAve15', 'asm_LDS15', 'rasm_movingAve1', 'dasm_LDS11', 'de_LDS1', 'asm_LDS1', 'de_LDS6', 'rasm_LDS1', 'de_LDS3', 'dcau_movingAve1', 'de_LDS15', 'dcau_LDS4', 'asm_LDS4', 'dcau_LDS3', 'de_LDS11', 'dcau_LDS10', 'dasm_movingAve1', 'dasm_movingAve9', 'de_LDS14', 'asm_movingAve10', 'dasm_LDS13', 'dasm_LDS14', 'rasm_LDS9', 'dasm_movingAve14', 'rasm_movingAve7', 'dasm_movingAve6', 'asm_movingAve6', 'asm_movingAve13', 'dasm_LDS5', 'dcau_movingAve13', 'dasm_LDS3', 'de_movingAve1', 'de_movingAve11', 'asm_LDS12', 'dcau_LDS6', 'dasm_movingAve3', 'dcau_LDS5', 'psd_LDS7', 'asm_LDS10', 'dasm_movingAve5', 'psd_movingAve11', 'psd_movingAve4', 'asm_LDS2', 'dcau_LDS13', 'de_movingAve8', 'rasm_LDS4', 'asm_LDS5', 'de_LDS4', 'dasm_movingAve13', 'psd_movingAve1', 'dcau_LDS8', 'dcau_LDS1', 'de_movingAve3', 'de_movingAve10', 'dasm_movingAve4', 'dasm_LDS7', 'rasm_LDS7', 'rasm_movingAve13', 'dcau_movingAve6', 'psd_LDS1', 'rasm_LDS3', 'rasm_LDS11', 'asm_LDS7', 'dcau_movingAve2', 'psd_LDS3', 'dcau_movingAve12', 'rasm_movingAve4', 'dcau_LDS14', '__version__', 'psd_movingAve3', 'dcau_movingAve3', 'dasm_LDS2', 'psd_movingAve7', 'rasm_LDS15', 'de_LDS9', 'psd_LDS8', 'asm_LDS8', 'asm_LDS13'])"
      ]
     },
     "execution_count": 41,
     "metadata": {},
     "output_type": "execute_result"
    }
   ],
   "source": [
    "extracted = loadmat('/home/venkat/Desktop/Emotional/ExtractedFeatures/dujingcheng_20131027.mat')\n",
    "extracted.keys()"
   ]
  },
  {
   "cell_type": "code",
   "execution_count": 45,
   "metadata": {},
   "outputs": [
    {
     "name": "stdout",
     "output_type": "stream",
     "text": [
      "(62, 195, 5)\n",
      "(62, 195, 5)\n"
     ]
    }
   ],
   "source": [
    "print(extracted['de_LDS6'].shape)\n",
    "print(extracted['de_movingAve6'].shape)"
   ]
  },
  {
   "cell_type": "code",
   "execution_count": 65,
   "metadata": {},
   "outputs": [
    {
     "name": "stdout",
     "output_type": "stream",
     "text": [
      "(62, 237, 5)\n",
      "(62, 237, 5)\n"
     ]
    }
   ],
   "source": [
    "print(extracted['de_LDS7'].shape)\n",
    "print(extracted['de_movingAve7'].shape)\n",
    "data = extracted['de_movingAve7']"
   ]
  },
  {
   "cell_type": "code",
   "execution_count": 58,
   "metadata": {},
   "outputs": [
    {
     "data": {
      "text/plain": [
       "(62, 237)"
      ]
     },
     "execution_count": 58,
     "metadata": {},
     "output_type": "execute_result"
    }
   ],
   "source": [
    "std = np.std(data,axis=1)\n",
    "std.shape"
   ]
  },
  {
   "cell_type": "code",
   "execution_count": 74,
   "metadata": {},
   "outputs": [
    {
     "name": "stdout",
     "output_type": "stream",
     "text": [
      "de size:  310\n",
      "310\n"
     ]
    }
   ],
   "source": [
    " def de(data):\n",
    "        std = np.std(data,axis=1)\n",
    "        #print('std :' + str(std))\n",
    "        de = []\n",
    "        #print('std :', std.shape)\n",
    "        for x in std:\n",
    "            for f in x:\n",
    "                #print(f)\n",
    "                de.append(0 if f==0 else (1.0/2)*math.log(2*math.pi*2.71*f**2))\n",
    "                \n",
    "        #de = [ [0 if f==0 else (1.0/2)*math.log(2*math.pi*2.71*f**2)] for f in x for x in std ]\n",
    "        print('de size: ' ,len(de))\n",
    "        return de\n",
    "        #return de\n",
    "d = de(data)\n",
    "print(len(d))"
   ]
  },
  {
   "cell_type": "code",
   "execution_count": null,
   "metadata": {},
   "outputs": [],
   "source": []
  }
 ],
 "metadata": {
  "kernelspec": {
   "display_name": "Python 3",
   "language": "python",
   "name": "python3"
  },
  "language_info": {
   "codemirror_mode": {
    "name": "ipython",
    "version": 3
   },
   "file_extension": ".py",
   "mimetype": "text/x-python",
   "name": "python",
   "nbconvert_exporter": "python",
   "pygments_lexer": "ipython3",
   "version": "3.5.2"
  }
 },
 "nbformat": 4,
 "nbformat_minor": 2
}
